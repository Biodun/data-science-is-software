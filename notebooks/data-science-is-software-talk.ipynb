{
 "cells": [
  {
   "cell_type": "markdown",
   "metadata": {},
   "source": [
    "<table style=\"width:100%; border: 0px solid black;\">\n",
    "    <tr style=\"width: 100%; border: 0px solid black;\">\n",
    "        <td style=\"width:75%; border: 0px solid black;\">\n",
    "            <a href=\"http://www.drivendata.org\">\n",
    "                <img src=\"https://s3.amazonaws.com/drivendata.org/kif-example/img/dd.png\" />\n",
    "            </a>\n",
    "        </td>\n",
    "        <td style=\"width:20%; border: 0px solid black;\">\n",
    "            <strong>Peter Bull</strong> <br>\n",
    "            <strong>Data Scientist</strong> <br>\n",
    "            <a target=_blank href=\"http://www.drivendata.org\">DrivenData</a>\n",
    "        </td>\n",
    "    </tr>\n",
    "</table>"
   ]
  },
  {
   "cell_type": "markdown",
   "metadata": {},
   "source": [
    "# Data Science is Software: Developer #lifehacks for the Jupyter Data Scientist\n",
    "\n",
    "21 May 2016"
   ]
  },
  {
   "cell_type": "markdown",
   "metadata": {},
   "source": [
    "# 1. This is my house\n",
    "\n",
    "### Environment reproducibility for Python"
   ]
  },
  {
   "cell_type": "markdown",
   "metadata": {},
   "source": [
    "## 1.1 The [watermark](https://github.com/rasbt/watermark) extension\n",
    "\n",
    "Tell everyone when your notebook was run, and with which packages. This is especially useful for nbview, blog posts, and other media where you are not sharing the notebook as executable code."
   ]
  },
  {
   "cell_type": "code",
   "execution_count": 1,
   "metadata": {
    "collapsed": false
   },
   "outputs": [],
   "source": [
    "# install the watermark extension\n",
    "!pip install watermark\n",
    "\n",
    "# once it is installed, you'll just need this in future notebooks:\n",
    "%load_ext watermark"
   ]
  },
  {
   "cell_type": "code",
   "execution_count": 2,
   "metadata": {
    "collapsed": false
   },
   "outputs": [
    {
     "name": "stdout",
     "output_type": "stream",
     "text": [
      "Peter Bull 2016-05-21 \n",
      "\n",
      "CPython 3.5.1\n",
      "IPython 4.2.0\n",
      "\n",
      "numpy 1.11.0\n",
      "pandas 0.18.1\n",
      "Git hash: 91305bb484b494a4c6299a5cff89e7653f8d53b2\n"
     ]
    }
   ],
   "source": [
    "%watermark -a \"Peter Bull\" -d -v -p numpy,pandas -g"
   ]
  },
  {
   "cell_type": "markdown",
   "metadata": {},
   "source": [
    "## 1.2 Laying the foundation\n",
    "\n",
    "[`virtualenv`](https://virtualenv.pypa.io/en/latest/installation.html) and [`virtualenvwrapper`](http://virtualenvwrapper.readthedocs.org/en/latest/#) give you a new foundation.\n",
    "\n",
    " - Start from \"scratch\" on each project\n",
    " - Choose Python 2 or 3 as appropriate\n",
    " - Packages are cached locally, so no need to wait for download/compile on every new env\n",
    " \n",
    "Installation is as easy as:\n",
    " - `pip install virtualenv`\n",
    " - `pip install virtualenvwrapper`\n",
    " - Add the following lines to `~/.bashrc`:\n",
    " \n",
    "------\n",
    "\n",
    "```\n",
    "export WORKON_HOME=$HOME/.virtualenvs\n",
    "export PROJECT_HOME=$HOME/Devel\n",
    "source /usr/local/bin/virtualenvwrapper.sh\n",
    "```\n",
    "\n",
    "-----\n",
    "\n",
    "\n",
    "To create a virtual environment:\n",
    "\n",
    " - `mkvirtualenv <name>`\n",
    "\n",
    " \n",
    "To work in a particular virtual environment:\n",
    "\n",
    " - `workon <name>`\n",
    " \n",
    "To leave a virtual environment:\n",
    "\n",
    " - `deactivate`\n",
    " \n",
    " \n",
    "**`#lifehack`: create a new virtual environment for every project you work on**\n",
    "\n",
    "**`#lifehack`: if you use anaconda to manage packages using `mkvirtualenv --system-site-packages <name>` makes your virtualenvs less complicated**"
   ]
  },
  {
   "cell_type": "markdown",
   "metadata": {},
   "source": [
    "\n",
    "## 1.1 The `pip` [requirements.txt](https://pip.readthedocs.org/en/1.1/requirements.html) file\n",
    "\n",
    "Track your MRE, \"Minimum reproducible environment\" in a `requirements.txt` file\n",
    "\n",
    "**`#lifehack`: never again run `pip install <package>`. Instead, update `requirements.txt` and run `pip install -r requirements.txt`**\n",
    "\n",
    "**`#lifehack`: for data science projects, favor `package>=0.0.0` rather than `package==0.0.0`. This works well with the `--system-site-packages` flag so you don't have many versions of large packages with complex dependencies sitting around (e.g., numpy, scipy, pandas)**"
   ]
  },
  {
   "cell_type": "code",
   "execution_count": 3,
   "metadata": {
    "collapsed": false
   },
   "outputs": [
    {
     "name": "stdout",
     "output_type": "stream",
     "text": [
      "coverage>=4.0.3\r\n",
      "engarde>=0.3.1\r\n",
      "ipython>=4.1.2\r\n",
      "jupyter>=1.0.0\r\n",
      "matplotlib>=1.5.1\r\n",
      "notebook>=4.1.0\r\n",
      "numpy>=1.10.4\r\n",
      "pandas>=0.17.1\r\n",
      "prettyplotlib>=0.1.7\r\n",
      "seaborn>=0.7.0\r\n",
      "q>=2.6\r\n",
      "python-dotenv>=0.5.0\r\n"
     ]
    }
   ],
   "source": [
    "!head -n 15 ../requirements.txt"
   ]
  },
  {
   "cell_type": "markdown",
   "metadata": {},
   "source": [
    "# 2. The Life-Changing Magic of Tidying Up\n",
    "\n",
    "## 2.1 Consistent project structure means\n",
    "\n",
    " - relative paths work\n",
    " - other collaborators know what to expect\n",
    " - order of scripts is self-documenting"
   ]
  },
  {
   "cell_type": "code",
   "execution_count": 4,
   "metadata": {
    "collapsed": false
   },
   "outputs": [
    {
     "name": "stdout",
     "output_type": "stream",
     "text": [
      "..\r\n",
      "├── LICENSE\r\n",
      "├── README.md\r\n",
      "├── data\r\n",
      "│   └── water-pumps.csv\r\n",
      "├── notebooks\r\n",
      "│   ├── data-science-is-software-talk.ipynb\r\n",
      "│   ├── edit-run-repeat.ipynb\r\n",
      "│   └── htmlcov\r\n",
      "│       ├── _Users_bull_data-science-is-software_src___init___py.html\r\n",
      "│       ├── _Users_bull_data-science-is-software_src_mcmc___init___py.html\r\n",
      "│       ├── _Users_bull_data-science-is-software_src_mcmc_hamiltonian_py.html\r\n",
      "│       ├── _Users_bull_data-science-is-software_src_preprocess___init___py.html\r\n",
      "│       ├── _Users_bull_data-science-is-software_src_preprocess_build_features_py.html\r\n",
      "│       ├── _Users_bull_data-science-is-software_src_preprocess_tests_py.html\r\n",
      "│       ├── coverage_html.js\r\n",
      "│       ├── index.html\r\n",
      "│       ├── jquery.debounce.min.js\r\n",
      "│       ├── jquery.hotkeys.js\r\n",
      "│       ├── jquery.isonscreen.js\r\n",
      "│       ├── jquery.min.js\r\n",
      "│       ├── jquery.tablesorter.min.js\r\n",
      "│       ├── keybd_closed.png\r\n",
      "│       ├── keybd_open.png\r\n",
      "│       ├── status.json\r\n",
      "│       └── style.css\r\n",
      "├── requirements.txt\r\n",
      "├── slides\r\n",
      "│   ├── Data\\ Science\\ is\\ Software\\ -\\ Slides.pdf\r\n",
      "│   └── Data\\ Science\\ is\\ Software\\ -\\ Slides.pptx\r\n",
      "├── src\r\n",
      "│   ├── __init__.py\r\n",
      "│   ├── mcmc\r\n",
      "│   │   ├── __init__.py\r\n",
      "│   │   ├── __init__.pyc\r\n",
      "│   │   ├── hamiltonian.py\r\n",
      "│   │   └── hamiltonian.pyc\r\n",
      "│   └── preprocess\r\n",
      "│       ├── __init__.py\r\n",
      "│       ├── __init__.pyc\r\n",
      "│       ├── build_features.py\r\n",
      "│       ├── build_features.pyc\r\n",
      "│       └── tests.py\r\n",
      "└── test_env.py\r\n",
      "\r\n",
      "7 directories, 36 files\r\n"
     ]
    }
   ],
   "source": [
    "! tree .."
   ]
  },
  {
   "cell_type": "markdown",
   "metadata": {},
   "source": [
    "# 3. Edit-run-repeat: how to stop the cycle of pain\n",
    "\n",
    "The goal: don't edit, execute and verify any more. How close can we get to code succeeding the first or second time you run it? It's a fine way to start a project, but it doesn't scale as code runs longer and gets more complex.\n"
   ]
  },
  {
   "cell_type": "markdown",
   "metadata": {},
   "source": [
    "## 3.1 No more docs-guessing\n",
    "\n",
    "Don't edit-run-repeat to try to remember the name of a function or argument."
   ]
  },
  {
   "cell_type": "code",
   "execution_count": 5,
   "metadata": {
    "collapsed": true
   },
   "outputs": [],
   "source": [
    "import pandas as pd"
   ]
  },
  {
   "cell_type": "code",
   "execution_count": 6,
   "metadata": {
    "collapsed": false
   },
   "outputs": [
    {
     "data": {
      "text/html": [
       "<div>\n",
       "<table border=\"1\" class=\"dataframe\">\n",
       "  <thead>\n",
       "    <tr style=\"text-align: right;\">\n",
       "      <th></th>\n",
       "      <th>id</th>\n",
       "      <th>amount_tsh</th>\n",
       "      <th>date_recorded</th>\n",
       "      <th>funder</th>\n",
       "      <th>gps_height</th>\n",
       "      <th>installer</th>\n",
       "      <th>longitude</th>\n",
       "      <th>latitude</th>\n",
       "      <th>wpt_name</th>\n",
       "      <th>num_private</th>\n",
       "      <th>...</th>\n",
       "      <th>payment_type</th>\n",
       "      <th>water_quality</th>\n",
       "      <th>quality_group</th>\n",
       "      <th>quantity</th>\n",
       "      <th>quantity_group</th>\n",
       "      <th>source</th>\n",
       "      <th>source_type</th>\n",
       "      <th>source_class</th>\n",
       "      <th>waterpoint_type</th>\n",
       "      <th>waterpoint_type_group</th>\n",
       "    </tr>\n",
       "  </thead>\n",
       "  <tbody>\n",
       "    <tr>\n",
       "      <th>0</th>\n",
       "      <td>69572</td>\n",
       "      <td>6000.0</td>\n",
       "      <td>2011-03-14</td>\n",
       "      <td>Roman</td>\n",
       "      <td>1390</td>\n",
       "      <td>Roman</td>\n",
       "      <td>34.938093</td>\n",
       "      <td>-9.856322</td>\n",
       "      <td>none</td>\n",
       "      <td>0</td>\n",
       "      <td>...</td>\n",
       "      <td>annually</td>\n",
       "      <td>soft</td>\n",
       "      <td>good</td>\n",
       "      <td>enough</td>\n",
       "      <td>enough</td>\n",
       "      <td>spring</td>\n",
       "      <td>spring</td>\n",
       "      <td>groundwater</td>\n",
       "      <td>communal standpipe</td>\n",
       "      <td>communal standpipe</td>\n",
       "    </tr>\n",
       "  </tbody>\n",
       "</table>\n",
       "<p>1 rows × 40 columns</p>\n",
       "</div>"
      ],
      "text/plain": [
       "      id  amount_tsh date_recorded funder  gps_height installer  longitude  \\\n",
       "0  69572      6000.0    2011-03-14  Roman        1390     Roman  34.938093   \n",
       "\n",
       "   latitude wpt_name  num_private          ...          payment_type  \\\n",
       "0 -9.856322     none            0          ...              annually   \n",
       "\n",
       "  water_quality quality_group  quantity  quantity_group  source source_type  \\\n",
       "0          soft          good    enough          enough  spring      spring   \n",
       "\n",
       "   source_class     waterpoint_type waterpoint_type_group  \n",
       "0   groundwater  communal standpipe    communal standpipe  \n",
       "\n",
       "[1 rows x 40 columns]"
      ]
     },
     "execution_count": 6,
     "metadata": {},
     "output_type": "execute_result"
    }
   ],
   "source": [
    "df = pd.read_csv(\"../data/water-pumps.csv\")\n",
    "df.head(1)\n",
    "\n",
    "## Try adding parameter index=0"
   ]
  },
  {
   "cell_type": "code",
   "execution_count": 7,
   "metadata": {
    "collapsed": true
   },
   "outputs": [],
   "source": [
    "pd.read_csv?"
   ]
  },
  {
   "cell_type": "code",
   "execution_count": 8,
   "metadata": {
    "collapsed": false
   },
   "outputs": [
    {
     "data": {
      "text/html": [
       "<div>\n",
       "<table border=\"1\" class=\"dataframe\">\n",
       "  <thead>\n",
       "    <tr style=\"text-align: right;\">\n",
       "      <th></th>\n",
       "      <th>amount_tsh</th>\n",
       "      <th>date_recorded</th>\n",
       "      <th>funder</th>\n",
       "      <th>gps_height</th>\n",
       "      <th>installer</th>\n",
       "      <th>longitude</th>\n",
       "      <th>latitude</th>\n",
       "      <th>wpt_name</th>\n",
       "      <th>num_private</th>\n",
       "      <th>basin</th>\n",
       "      <th>...</th>\n",
       "      <th>payment_type</th>\n",
       "      <th>water_quality</th>\n",
       "      <th>quality_group</th>\n",
       "      <th>quantity</th>\n",
       "      <th>quantity_group</th>\n",
       "      <th>source</th>\n",
       "      <th>source_type</th>\n",
       "      <th>source_class</th>\n",
       "      <th>waterpoint_type</th>\n",
       "      <th>waterpoint_type_group</th>\n",
       "    </tr>\n",
       "    <tr>\n",
       "      <th>id</th>\n",
       "      <th></th>\n",
       "      <th></th>\n",
       "      <th></th>\n",
       "      <th></th>\n",
       "      <th></th>\n",
       "      <th></th>\n",
       "      <th></th>\n",
       "      <th></th>\n",
       "      <th></th>\n",
       "      <th></th>\n",
       "      <th></th>\n",
       "      <th></th>\n",
       "      <th></th>\n",
       "      <th></th>\n",
       "      <th></th>\n",
       "      <th></th>\n",
       "      <th></th>\n",
       "      <th></th>\n",
       "      <th></th>\n",
       "      <th></th>\n",
       "      <th></th>\n",
       "    </tr>\n",
       "  </thead>\n",
       "  <tbody>\n",
       "    <tr>\n",
       "      <th>69572</th>\n",
       "      <td>6000.0</td>\n",
       "      <td>2011-03-14</td>\n",
       "      <td>Roman</td>\n",
       "      <td>1390</td>\n",
       "      <td>Roman</td>\n",
       "      <td>34.938093</td>\n",
       "      <td>-9.856322</td>\n",
       "      <td>none</td>\n",
       "      <td>0</td>\n",
       "      <td>Lake Nyasa</td>\n",
       "      <td>...</td>\n",
       "      <td>annually</td>\n",
       "      <td>soft</td>\n",
       "      <td>good</td>\n",
       "      <td>enough</td>\n",
       "      <td>enough</td>\n",
       "      <td>spring</td>\n",
       "      <td>spring</td>\n",
       "      <td>groundwater</td>\n",
       "      <td>communal standpipe</td>\n",
       "      <td>communal standpipe</td>\n",
       "    </tr>\n",
       "  </tbody>\n",
       "</table>\n",
       "<p>1 rows × 39 columns</p>\n",
       "</div>"
      ],
      "text/plain": [
       "       amount_tsh date_recorded funder  gps_height installer  longitude  \\\n",
       "id                                                                        \n",
       "69572      6000.0    2011-03-14  Roman        1390     Roman  34.938093   \n",
       "\n",
       "       latitude wpt_name  num_private       basin          ...           \\\n",
       "id                                                         ...            \n",
       "69572 -9.856322     none            0  Lake Nyasa          ...            \n",
       "\n",
       "      payment_type water_quality  quality_group  quantity quantity_group  \\\n",
       "id                                                                         \n",
       "69572     annually          soft           good    enough         enough   \n",
       "\n",
       "       source  source_type source_class     waterpoint_type  \\\n",
       "id                                                            \n",
       "69572  spring       spring  groundwater  communal standpipe   \n",
       "\n",
       "      waterpoint_type_group  \n",
       "id                           \n",
       "69572    communal standpipe  \n",
       "\n",
       "[1 rows x 39 columns]"
      ]
     },
     "execution_count": 8,
     "metadata": {},
     "output_type": "execute_result"
    }
   ],
   "source": [
    "df = pd.read_csv(\"../data/water-pumps.csv\",\n",
    "                 index_col=0,\n",
    "                 parse_dates=[\"date_recorded\"])\n",
    "df.head(1)"
   ]
  },
  {
   "cell_type": "markdown",
   "metadata": {},
   "source": [
    "**`#lifehack`: in addition to the `?` operator, the Jupyter notebooks has great intelligent code completion; try `tab` when typing the name of a function, try `shift+tab` when inside a method call **"
   ]
  },
  {
   "cell_type": "markdown",
   "metadata": {},
   "source": [
    "## 3.2 No more copy pasta\n",
    "\n",
    "Don't repeat yourself."
   ]
  },
  {
   "cell_type": "code",
   "execution_count": 9,
   "metadata": {
    "collapsed": false
   },
   "outputs": [],
   "source": [
    "%matplotlib inline\n",
    "import matplotlib.pyplot as plt\n",
    "import seaborn as sns"
   ]
  },
  {
   "cell_type": "code",
   "execution_count": 10,
   "metadata": {
    "collapsed": false
   },
   "outputs": [
    {
     "name": "stderr",
     "output_type": "stream",
     "text": [
      "/Users/bull/anaconda/lib/python3.5/site-packages/statsmodels/nonparametric/kdetools.py:20: VisibleDeprecationWarning: using a non-integer number instead of an integer will result in an error in the future\n",
      "  y = X[:m/2+1] + np.r_[0,X[m/2+1:],0]*1j\n"
     ]
    },
    {
     "data": {
      "image/png": "[encoded data removed]",
      "text/plain": [
       "<matplotlib.figure.Figure at 0x11aa22198>"
      ]
     },
     "metadata": {},
     "output_type": "display_data"
    },
    {
     "data": {
      "image/png": "[encoded data removed]",
      "text/plain": [
       "<matplotlib.figure.Figure at 0x11425c470>"
      ]
     },
     "metadata": {},
     "output_type": "display_data"
    }
   ],
   "source": [
    "plot_data = df['construction_year']\n",
    "plot_data = plot_data[plot_data != 0]\n",
    "sns.kdeplot(plot_data, bw=0.1)\n",
    "plt.show()\n",
    "\n",
    "plot_data = df['longitude']\n",
    "plot_data = plot_data[plot_data != 0]\n",
    "sns.kdeplot(plot_data, bw=0.1)\n",
    "plt.show()\n",
    "\n",
    "## Paste for 'amount_tsh' and plot\n",
    "## Paste for 'latitude' and plot"
   ]
  },
  {
   "cell_type": "code",
   "execution_count": 11,
   "metadata": {
    "collapsed": true
   },
   "outputs": [],
   "source": [
    "def kde_plot(dataframe, variable, upper=0.0, lower=0.0, bw=0.1):\n",
    "    plot_data = dataframe[variable]\n",
    "    plot_data = plot_data[(plot_data > lower) & (plot_data < upper)]\n",
    "    sns.kdeplot(plot_data, bw=bw)\n",
    "    plt.show()"
   ]
  },
  {
   "cell_type": "code",
   "execution_count": 12,
   "metadata": {
    "collapsed": false
   },
   "outputs": [
    {
     "name": "stderr",
     "output_type": "stream",
     "text": [
      "/Users/bull/anaconda/lib/python3.5/site-packages/statsmodels/nonparametric/kdetools.py:20: VisibleDeprecationWarning: using a non-integer number instead of an integer will result in an error in the future\n",
      "  y = X[:m/2+1] + np.r_[0,X[m/2+1:],0]*1j\n"
     ]
    },
    {
     "data": {
      "image/png": "[encoded data removed]",
      "text/plain": [
       "<matplotlib.figure.Figure at 0x11acd1ba8>"
      ]
     },
     "metadata": {},
     "output_type": "display_data"
    },
    {
     "data": {
      "image/png": "[encoded data removed]",
      "text/plain": [
       "<matplotlib.figure.Figure at 0x11acdf470>"
      ]
     },
     "metadata": {},
     "output_type": "display_data"
    }
   ],
   "source": [
    "kde_plot(df, 'construction_year', upper=2016)\n",
    "kde_plot(df, 'longitude', upper=42)"
   ]
  },
  {
   "cell_type": "code",
   "execution_count": 13,
   "metadata": {
    "collapsed": false
   },
   "outputs": [
    {
     "name": "stderr",
     "output_type": "stream",
     "text": [
      "/Users/bull/anaconda/lib/python3.5/site-packages/statsmodels/nonparametric/kdetools.py:20: VisibleDeprecationWarning: using a non-integer number instead of an integer will result in an error in the future\n",
      "  y = X[:m/2+1] + np.r_[0,X[m/2+1:],0]*1j\n"
     ]
    },
    {
     "data": {
      "image/png": "[encoded data removed]",
      "text/plain": [
       "<matplotlib.figure.Figure at 0x11b2108d0>"
      ]
     },
     "metadata": {},
     "output_type": "display_data"
    }
   ],
   "source": [
    "kde_plot(df, 'amount_tsh', upper=400000)"
   ]
  },
  {
   "cell_type": "markdown",
   "metadata": {},
   "source": [
    "## 3.3 No more guess-and-check\n",
    "\n",
    "Interrupt execution with:\n",
    " - `%debug` magic: drops you out into _the most recent error stacktrace_ in pdb\n",
    " - `import q;q.d()`: drops you into pdb, even outside of IPython\n",
    " \n",
    "Interrupt execution on an Exception with `%pdb` magic. Use [pdb](https://docs.python.org/2/library/pdb.html) the Python debugger to debug inside a notebook.  Key commands for `pdb` are:\n",
    "\n",
    " - `p`: Evaluate and print Python code\n",
    " \n",
    " \n",
    " - `w`: Where in the stack trace am I?\n",
    " - `u`: Go up a frame in the stack trace.\n",
    " - `d`: Go down a frame in the stack trace.\n",
    " \n",
    " \n",
    " - `c`: Continue execution\n",
    " - `q`: Stop execution"
   ]
  },
  {
   "cell_type": "code",
   "execution_count": null,
   "metadata": {
    "collapsed": false
   },
   "outputs": [],
   "source": [
    "kde_plot(df, 'date_recorded')"
   ]
  },
  {
   "cell_type": "code",
   "execution_count": null,
   "metadata": {
    "collapsed": false
   },
   "outputs": [],
   "source": [
    "%debug"
   ]
  },
  {
   "cell_type": "code",
   "execution_count": null,
   "metadata": {
    "collapsed": false
   },
   "outputs": [],
   "source": [
    "# \"1\" turns pdb on, \"0\" turns pdb off\n",
    "%pdb 1\n",
    "\n",
    "kde_plot(df, 'date_recorded')"
   ]
  },
  {
   "cell_type": "code",
   "execution_count": null,
   "metadata": {
    "collapsed": false
   },
   "outputs": [],
   "source": [
    "# turn off debugger\n",
    "%pdb 0"
   ]
  },
  {
   "cell_type": "markdown",
   "metadata": {},
   "source": [
    "**`#lifehack`: %debug and %pdb are great, but pdb can be clunky. Try the 'q' module. Adding the line `import q;q.d()` anywhere in a project gives you a normal python console at that point. This is great if you're running outside of IPython. **"
   ]
  },
  {
   "cell_type": "markdown",
   "metadata": {},
   "source": [
    "## 3.4 No more \"Restart & Run All\"\n",
    "\n",
    "`assert` is the poor man's unit test: stops execution if condition is `False`, continues silently if `True`"
   ]
  },
  {
   "cell_type": "code",
   "execution_count": null,
   "metadata": {
    "collapsed": true
   },
   "outputs": [],
   "source": [
    "import numpy as np"
   ]
  },
  {
   "cell_type": "code",
   "execution_count": null,
   "metadata": {
    "collapsed": false
   },
   "outputs": [],
   "source": [
    "def gimme_the_mean(series):\n",
    "    return np.mean(series)\n",
    "\n",
    "assert gimme_the_mean([0.0]*10) == 0.0\n",
    "assert gimme_the_mean(range(10)) == 5"
   ]
  },
  {
   "cell_type": "markdown",
   "metadata": {},
   "source": [
    "## 3.5 No more copy-pasta between notebooks \n",
    "\n",
    "Have a method that gets used in multiple notebooks? Refactor it into a separate `.py` file so it can live a happy life!\n",
    "\n",
    "Note: In order to import your local modules, you must do three things:\n",
    "\n",
    " - put the .py file in a separate folder\n",
    " - add an empty `__init__.py` file to the folder\n",
    " - add that folder to the Python path with `sys.path.append`"
   ]
  },
  {
   "cell_type": "code",
   "execution_count": 14,
   "metadata": {
    "collapsed": false,
    "scrolled": false
   },
   "outputs": [
    {
     "data": {
      "text/plain": [
       "(11910, 39)"
      ]
     },
     "execution_count": 14,
     "metadata": {},
     "output_type": "execute_result"
    }
   ],
   "source": [
    "import os\n",
    "import sys\n",
    "\n",
    "# add the 'src' directory as one where we can import modules\n",
    "src_dir = os.path.join(os.getcwd(), os.pardir, 'src')\n",
    "sys.path.append(src_dir)\n",
    "\n",
    "# import my method from the source code\n",
    "from preprocess.build_features import remove_invalid_data\n",
    "\n",
    "df = remove_invalid_data(\"../data/water-pumps.csv\")\n",
    "df.shape"
   ]
  },
  {
   "cell_type": "code",
   "execution_count": 15,
   "metadata": {
    "collapsed": false
   },
   "outputs": [],
   "source": [
    "# TRY ADDING print \"lalalala\" to the method\n",
    "df = remove_invalid_data(\"../data/water-pumps.csv\")"
   ]
  },
  {
   "cell_type": "markdown",
   "metadata": {},
   "source": [
    "Restart the kernel, let's try this again...."
   ]
  },
  {
   "cell_type": "code",
   "execution_count": 16,
   "metadata": {
    "collapsed": false
   },
   "outputs": [],
   "source": [
    "# Load the \"autoreload\" extension\n",
    "%load_ext autoreload\n",
    "\n",
    "# always reload modules marked with \"%aimport\"\n",
    "%autoreload 1\n",
    "\n",
    "import os\n",
    "import sys\n",
    "\n",
    "# add the 'src' directory as one where we can import modules\n",
    "src_dir = os.path.join(os.getcwd(), os.pardir, 'src')\n",
    "sys.path.append(src_dir)\n",
    "\n",
    "# import my method from the source code\n",
    "%aimport preprocess.build_features\n",
    "from preprocess.build_features import remove_invalid_data"
   ]
  },
  {
   "cell_type": "code",
   "execution_count": null,
   "metadata": {
    "collapsed": false
   },
   "outputs": [],
   "source": [
    "df = remove_invalid_data(\"../data/water-pumps.csv\")\n",
    "df.head()"
   ]
  },
  {
   "cell_type": "markdown",
   "metadata": {},
   "source": [
    "**`#lifehack`: reloading modules in a running kernel is tricky business. If you use `%autoreload` when developing, restart the kernel and run all cells when you're done. **"
   ]
  },
  {
   "cell_type": "markdown",
   "metadata": {},
   "source": [
    "## 3.6 No more letting other people (including future you) break your toys\n",
    "\n",
    "`unittest` is a unit testing framework that is built in to Python. See `src/preprocess/tests.py` for an example."
   ]
  },
  {
   "cell_type": "code",
   "execution_count": null,
   "metadata": {
    "collapsed": false
   },
   "outputs": [],
   "source": [
    "%run ../src/preprocess/tests.py"
   ]
  },
  {
   "cell_type": "markdown",
   "metadata": {},
   "source": [
    "**`#lifehack`: test your code. **"
   ]
  },
  {
   "cell_type": "markdown",
   "metadata": {},
   "source": [
    "## 3.7 Special treats for datascience testing"
   ]
  },
  {
   "cell_type": "markdown",
   "metadata": {},
   "source": [
    "### `numpy.testing`\n",
    "Provides useful assertion methods for values that are numerically close and for numpy arrays."
   ]
  },
  {
   "cell_type": "code",
   "execution_count": null,
   "metadata": {
    "collapsed": false
   },
   "outputs": [],
   "source": [
    "data = np.random.normal(0.0, 1.0, 1000000)\n",
    "assert gimme_the_mean(data) == 0.0"
   ]
  },
  {
   "cell_type": "code",
   "execution_count": null,
   "metadata": {
    "collapsed": false
   },
   "outputs": [],
   "source": [
    "np.testing.assert_almost_equal(gimme_the_mean(data),\n",
    "                               0.0,\n",
    "                               decimal=1)"
   ]
  },
  {
   "cell_type": "code",
   "execution_count": null,
   "metadata": {
    "collapsed": false
   },
   "outputs": [],
   "source": [
    "a = np.random.normal(0, 0.0001, 10000)\n",
    "b = np.random.normal(0, 0.0001, 10000)\n",
    "\n",
    "np.testing.assert_array_equal(a, b)"
   ]
  },
  {
   "cell_type": "code",
   "execution_count": null,
   "metadata": {
    "collapsed": true
   },
   "outputs": [],
   "source": [
    "np.testing.assert_array_almost_equal(a, b, decimal=3)"
   ]
  },
  {
   "cell_type": "markdown",
   "metadata": {},
   "source": [
    "### [engarde]() decorators\n",
    "\n",
    "A new library that lets you practice defensive program--specifically with pandas `DataFrame` objects. It provides a set of decorators that check the return value of any function that returns a `DataFrame` and confirms that it conforms to the rules."
   ]
  },
  {
   "cell_type": "code",
   "execution_count": null,
   "metadata": {
    "collapsed": false
   },
   "outputs": [],
   "source": [
    "import engarde.decorators as ed"
   ]
  },
  {
   "cell_type": "code",
   "execution_count": null,
   "metadata": {
    "collapsed": false
   },
   "outputs": [],
   "source": [
    "test_data = pd.DataFrame({'a': np.random.normal(0, 1, 100),\n",
    "                          'b': np.random.normal(0, 1, 100)})\n",
    "\n",
    "@ed.none_missing()\n",
    "def process(dataframe):\n",
    "    dataframe.loc[10, 'a'] = np.nan\n",
    "    return dataframe\n",
    "\n",
    "process(test_data).head()"
   ]
  },
  {
   "cell_type": "markdown",
   "metadata": {},
   "source": [
    "`engarde` has an awesome set of decorators:\n",
    "\n",
    " - `none_missing` - no NaNs (great for machine learning--sklearn does not care for NaNs)\n",
    " - `has_dtypes` - make sure the dtypes are what you expect\n",
    " - `verify` - runs an arbitrary function on the dataframe\n",
    " - `verify_all` - makes sure every element returns true for a given function\n",
    "\n",
    "More can be found [in the docs](http://engarde.readthedocs.org/en/latest/api.html).\n",
    "\n",
    "**`#lifehack`: test your _data science_ code. **"
   ]
  },
  {
   "cell_type": "markdown",
   "metadata": {},
   "source": [
    "## 3.8 Keep your secrets to yourself \n",
    "\n",
    "We've all seen secrets: passwords, database URLs, API keys checked in to GitHub. Don't do it! Even on a private repo. What's the easiest way to manage these secrets outside of source control? Store them as a `.env` file that lives in your repository, but is not in source control (e.g., add `.env` to your `.gitignore` file).\n",
    "\n",
    "A package called `python-dotenv` manages this for you easily."
   ]
  },
  {
   "cell_type": "code",
   "execution_count": null,
   "metadata": {
    "collapsed": true
   },
   "outputs": [],
   "source": [
    "!pip install -e git+https://github.com/pjbull/python-dotenv#egg=dotenv"
   ]
  },
  {
   "cell_type": "code",
   "execution_count": null,
   "metadata": {
    "collapsed": false
   },
   "outputs": [],
   "source": [
    "!cat ../.env"
   ]
  },
  {
   "cell_type": "code",
   "execution_count": null,
   "metadata": {
    "collapsed": false
   },
   "outputs": [],
   "source": [
    "import os\n",
    "from dotenv import load_dotenv, find_dotenv\n",
    "\n",
    "# find .env automagically by walking up directories until it's found\n",
    "dotenv_path = find_dotenv()\n",
    "\n",
    "# load up the entries as environment variables\n",
    "load_dotenv(dotenv_path)\n",
    "\n",
    "api_key = os.environ.get(\"API_KEY\")\n",
    "api_key"
   ]
  },
  {
   "cell_type": "code",
   "execution_count": null,
   "metadata": {
    "collapsed": false
   },
   "outputs": [],
   "source": [
    "import sys\n",
    "frame_filename = sys._getframe().f_back.f_code.co_filename\n",
    "frame_filename"
   ]
  },
  {
   "cell_type": "code",
   "execution_count": null,
   "metadata": {
    "collapsed": false
   },
   "outputs": [],
   "source": [
    "sys._getframe().f_code.co_filename# f_back.f_code.co_filename"
   ]
  },
  {
   "cell_type": "markdown",
   "metadata": {},
   "source": [
    "# 4. Next-level code inspection"
   ]
  },
  {
   "cell_type": "markdown",
   "metadata": {},
   "source": [
    "## 4.1 Code coverage\n",
    "\n",
    "`coverage.py` is an _amazing_ tool for seeing what code gets executed when you run your test suite. You can "
   ]
  },
  {
   "cell_type": "code",
   "execution_count": null,
   "metadata": {
    "collapsed": false,
    "scrolled": false
   },
   "outputs": [],
   "source": [
    "!coverage run --source ../src/ ../src/preprocess/tests.py\n",
    "!coverage report"
   ]
  },
  {
   "cell_type": "code",
   "execution_count": null,
   "metadata": {
    "collapsed": false
   },
   "outputs": [],
   "source": [
    "!coverage html\n",
    "\n",
    "from IPython.display import IFrame\n",
    "IFrame(\"htmlcov/index.html\", 800, 300)"
   ]
  },
  {
   "cell_type": "markdown",
   "metadata": {},
   "source": [
    "## 4.2 Code profiling\n",
    "\n",
    "Sometimes your code is slow. See which functions are called, how many times, and how long they take!\n",
    "\n",
    "The `%prun` magic reports these to you right in the Jupyter notebook!"
   ]
  },
  {
   "cell_type": "code",
   "execution_count": null,
   "metadata": {
    "collapsed": false
   },
   "outputs": [],
   "source": [
    "import numpy as np\n",
    "from mcmc.hamiltonian import hamiltonian, run_diagnostics\n",
    "\n",
    "f = lambda X: np.exp(-100*(np.sqrt(X[:,1]**2 + X[:,0]**2)- 1)**2 + (X[:,0]-1)**3 - X[:,1] - 5)\n",
    "\n",
    "# potential and kinetic energies\n",
    "U = lambda q: -np.log(f(q))\n",
    "K = lambda p: p.dot(p.T) / 2\n",
    "\n",
    "# gradient of the potential energy\n",
    "def grad_U(X):\n",
    "    x, y = X[0,:]\n",
    "    \n",
    "    xy_sqrt = np.sqrt(y**2 + x**2)\n",
    "    mid_term = 100*2*(xy_sqrt - 1) \n",
    "    grad_x = 3*((x-1)**2) - mid_term * ((x) / (xy_sqrt))\n",
    "    grad_y = -1 - mid_term * ((y) / (xy_sqrt))\n",
    "    \n",
    "    return -1*np.array([grad_x, grad_y]).reshape(-1, 2)\n",
    "\n",
    "ham_samples, H = hamiltonian(5000, U, K, grad_U)\n",
    "run_diagnostics(ham_samples)"
   ]
  },
  {
   "cell_type": "code",
   "execution_count": null,
   "metadata": {
    "collapsed": true
   },
   "outputs": [],
   "source": [
    "%prun ham_samples, H = hamiltonian(5000, U, K, grad_U)\n",
    "run_diagnostics(ham_samples)"
   ]
  },
  {
   "cell_type": "markdown",
   "metadata": {},
   "source": [
    "## 4.3 The world beyond Jupyter\n",
    "\n",
    "### Linting and Graphical Debugging (IDEs)"
   ]
  },
  {
   "cell_type": "markdown",
   "metadata": {
    "collapsed": true
   },
   "source": [
    "[PyCharm](https://www.jetbrains.com/pycharm/download/) is a fully-featured Python IDE. It has _tons_ of integrations with the normal development flow. The features I use most are:\n",
    "\n",
    " - `git` integration\n",
    " - interactive graphical debugger\n",
    " - flake8 linting\n",
    " - smart refactoring/go to"
   ]
  }
 ],
 "metadata": {
  "kernelspec": {
   "display_name": "Python 3",
   "language": "python",
   "name": "python3"
  },
  "language_info": {
   "codemirror_mode": {
    "name": "ipython",
    "version": 3
   },
   "file_extension": ".py",
   "mimetype": "text/x-python",
   "name": "python",
   "nbconvert_exporter": "python",
   "pygments_lexer": "ipython3",
   "version": "3.5.1"
  }
 },
 "nbformat": 4,
 "nbformat_minor": 0
}
