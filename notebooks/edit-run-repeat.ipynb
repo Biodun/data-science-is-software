{
 "cells": [
  {
   "cell_type": "code",
   "execution_count": null,
   "metadata": {
    "collapsed": false
   },
   "outputs": [],
   "source": [
    "import numpy as np\n",
    "import pandas as pd\n",
    "\n",
    "import matplotlib.pyplot as plt\n",
    "import seaborn as sns\n",
    "\n",
    "%matplotlib inline\n",
    "\n",
    "sns.set_style(\"darkgrid\")"
   ]
  },
  {
   "cell_type": "markdown",
   "metadata": {},
   "source": [
    "# Edit-run-repeat: Stopping the cycle of pain\n",
    "\n",
    "![hamster](http://i.giphy.com/2x6tx2UZSWmUE.gif)\n"
   ]
  },
  {
   "cell_type": "markdown",
   "metadata": {},
   "source": [
    "## 1. No more docs-guessing"
   ]
  },
  {
   "cell_type": "code",
   "execution_count": null,
   "metadata": {
    "collapsed": false
   },
   "outputs": [],
   "source": [
    "df = pd.read_csv(\"../data/water-pumps.csv\", index=0)\n",
    "df.head(1)"
   ]
  },
  {
   "cell_type": "code",
   "execution_count": null,
   "metadata": {
    "collapsed": true
   },
   "outputs": [],
   "source": [
    "pd.read_csv?"
   ]
  },
  {
   "cell_type": "code",
   "execution_count": null,
   "metadata": {
    "collapsed": false
   },
   "outputs": [],
   "source": [
    "df = pd.read_csv(\"../data/water-pumps.csv\",\n",
    "                 index_col=0,\n",
    "                 parse_dates=\"date_recorded\")\n",
    "df.head(1)"
   ]
  },
  {
   "cell_type": "markdown",
   "metadata": {
    "collapsed": true
   },
   "source": [
    "## 2. No more copy pasta\n",
    "\n",
    "Don't repeat yourself."
   ]
  },
  {
   "cell_type": "code",
   "execution_count": null,
   "metadata": {
    "collapsed": false
   },
   "outputs": [],
   "source": [
    "plot_data = df['construction_year']\n",
    "plot_data = plot_data[plot_data != 0]\n",
    "sns.kdeplot(plot_data, bw=0.1)\n",
    "plt.show()\n",
    "\n",
    "plot_data = df['longitude']\n",
    "plot_data = plot_data[plot_data != 0]\n",
    "sns.kdeplot(plot_data, bw=0.1)\n",
    "plt.show()\n",
    "\n",
    "plot_data = df['amount_tsh']\n",
    "plot_data = plot_data[plot_data > 20000]\n",
    "sns.kdeplot(plot_data, bw=0.1)\n",
    "plt.show()\n",
    "\n",
    "plot_data = df['latitude']\n",
    "plot_data = plot_data[plot_data > 20000]\n",
    "sns.kdeplot(plot_data, bw=0.1)\n",
    "plt.show()"
   ]
  },
  {
   "cell_type": "code",
   "execution_count": null,
   "metadata": {
    "collapsed": false
   },
   "outputs": [],
   "source": [
    "def kde_plot(dataframe, variable, upper=0.0, lower=0.0, bw=0.1):\n",
    "    plot_data = dataframe[variable]\n",
    "    plot_data = plot_data[(plot_data > lower) & (plot_data < upper)]\n",
    "    sns.kdeplot(plot_data, bw=bw)\n",
    "    plt.show()"
   ]
  },
  {
   "cell_type": "code",
   "execution_count": null,
   "metadata": {
    "collapsed": false
   },
   "outputs": [],
   "source": [
    "kde_plot(df, 'construction_year', upper=2016)\n",
    "kde_plot(df, 'longitude', upper=42)"
   ]
  },
  {
   "cell_type": "code",
   "execution_count": null,
   "metadata": {
    "collapsed": false
   },
   "outputs": [],
   "source": [
    "kde_plot(df, 'amount_tsh', lower=20000, upper=400000)"
   ]
  },
  {
   "cell_type": "markdown",
   "metadata": {
    "collapsed": true
   },
   "source": [
    "## 3. No more guess-and-check\n",
    "\n",
    "Use [pdb](https://docs.python.org/2/library/pdb.html) the Python debugger to debug inside a notebook.  Key commands are:\n",
    "\n",
    " - `p`: Evaluate and print Python code\n",
    " \n",
    " \n",
    " - `w`: Where in the stack trace am I?\n",
    " - `u`: Go up a frame in the stack trace.\n",
    " - `d`: Go down a frame in the stack trace.\n",
    " \n",
    " \n",
    " - `c`: Continue execution\n",
    " - `q`: Stop execution\n",
    " \n",
    " \n",
    "There are two ways to activate the debugger:\n",
    " - `%pdb`: toggles wether or not the debugger will be called on an exception\n",
    " - `%debug`: enters the debugger at the line where this magic is"
   ]
  },
  {
   "cell_type": "code",
   "execution_count": null,
   "metadata": {
    "collapsed": false
   },
   "outputs": [],
   "source": [
    "kde_plot(df, 'date_recorded')"
   ]
  },
  {
   "cell_type": "code",
   "execution_count": null,
   "metadata": {
    "collapsed": false,
    "scrolled": false
   },
   "outputs": [],
   "source": [
    "# \"1\" turns pdb on, \"0\" turns pdb off\n",
    "%pdb 1\n",
    "\n",
    "kde_plot(df, 'date_recorded')"
   ]
  },
  {
   "cell_type": "code",
   "execution_count": null,
   "metadata": {
    "collapsed": false
   },
   "outputs": [],
   "source": [
    "# turn off debugger\n",
    "%pdb 0"
   ]
  },
  {
   "cell_type": "markdown",
   "metadata": {
    "collapsed": true
   },
   "source": [
    "## 4. No more \"Restart & Run All\"\n",
    "\n",
    "`assert` is the poor man's unit test: stops execution if condition is `False`, continues silently if `True`"
   ]
  },
  {
   "cell_type": "code",
   "execution_count": null,
   "metadata": {
    "collapsed": false
   },
   "outputs": [],
   "source": [
    "def gimme_the_mean(series):\n",
    "    return np.mean(series)\n",
    "\n",
    "assert gimme_the_mean([0.0]*10) == 0.0"
   ]
  },
  {
   "cell_type": "code",
   "execution_count": null,
   "metadata": {
    "collapsed": false
   },
   "outputs": [],
   "source": [
    "data = np.random.normal(0.0, 1.0, 1000000)\n",
    "assert gimme_the_mean(data) == 0.0"
   ]
  },
  {
   "cell_type": "code",
   "execution_count": null,
   "metadata": {
    "collapsed": false
   },
   "outputs": [],
   "source": [
    "np.testing.assert_almost_equal(gimme_the_mean(data),\n",
    "                               0.0,\n",
    "                               decimal=1)"
   ]
  },
  {
   "cell_type": "markdown",
   "metadata": {},
   "source": [
    "![](https://s3.amazonaws.com/drivendata.org/img/come2.png)"
   ]
  },
  {
   "cell_type": "code",
   "execution_count": null,
   "metadata": {
    "collapsed": true
   },
   "outputs": [],
   "source": []
  }
 ],
 "metadata": {
  "kernelspec": {
   "display_name": "Python 2",
   "language": "python",
   "name": "python2"
  },
  "language_info": {
   "codemirror_mode": {
    "name": "ipython",
    "version": 2
   },
   "file_extension": ".py",
   "mimetype": "text/x-python",
   "name": "python",
   "nbconvert_exporter": "python",
   "pygments_lexer": "ipython2",
   "version": "2.7.10"
  }
 },
 "nbformat": 4,
 "nbformat_minor": 0
}
